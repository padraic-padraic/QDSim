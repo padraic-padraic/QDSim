{
 "cells": [
  {
   "cell_type": "code",
   "execution_count": 1,
   "metadata": {
    "collapsed": true
   },
   "outputs": [],
   "source": [
    "from matplotlib import pyplot as plt\n",
    "from QDSim import Simulation\n",
    "from QDSim.noise import get_lind_list, thermal_state\n",
    "from QDSim.physics import root_iSWAP\n",
    "from QDSim.solvers import do_qt_mesolve\n",
    "\n",
    "import qutip as qt\n",
    "import numpy as np"
   ]
  },
  {
   "cell_type": "code",
   "execution_count": null,
   "metadata": {
    "collapsed": false
   },
   "outputs": [],
   "source": [
    "sim = Simulation(do_qt_mesolve, fname='time_dependent.yaml')\n",
    "n = thermal_state(sim.w_c, 20e-3)\n",
    "# n = qt.basis(5,0)\n",
    "q1 = qt.rand_ket(2)\n",
    "q2 = qt.rand_ket(2)\n",
    "state = qt.tensor(n, q1, q2)\n",
    "sim.set_state(state)\n",
    "ls = get_lind_list(sim.w_c, 1e4, 20e-3, 1, 1e2, sim.dims)\n",
    "sim.lindblads = ls\n",
    "target = qt.tensor(q1, q2)\n",
    "states = sim.run_solver(nsteps=1000, steps=10000, tau=1e-7, progress_bar=True)\n",
    "fids = [qt.fidelity(target, s.ptrace([1, 2])) for s in states]\n",
    "fig = plt.figure()\n",
    "ax = fig.add_subplot(111, title='Initial State Fidelity with qubit detuning')\n",
    "ax.plot(1e-7*np.arange(10000), fids)\n",
    "ax.set_xlabel('Time /s')\n",
    "ax.set_ylabel('Fidelity')\n",
    "plt.savefig('StateStorage.pdf')"
   ]
  },
  {
   "cell_type": "code",
   "execution_count": null,
   "metadata": {
    "collapsed": true
   },
   "outputs": [],
   "source": []
  }
 ],
 "metadata": {
  "kernelspec": {
   "display_name": "Python 3",
   "language": "python",
   "name": "python3"
  },
  "language_info": {
   "codemirror_mode": {
    "name": "ipython",
    "version": 3
   },
   "file_extension": ".py",
   "mimetype": "text/x-python",
   "name": "python",
   "nbconvert_exporter": "python",
   "pygments_lexer": "ipython3",
   "version": "3.5.1"
  }
 },
 "nbformat": 4,
 "nbformat_minor": 0
}
