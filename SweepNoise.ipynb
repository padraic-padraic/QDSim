{
 "cells": [
  {
   "cell_type": "code",
   "execution_count": 1,
   "metadata": {
    "collapsed": false
   },
   "outputs": [],
   "source": [
    "import numpy as np\n",
    "import qutip as qt\n",
    "from matplotlib import pyplot as plt\n",
    "from QDSim import Simulation\n",
    "from QDSim.noise import thermal_state, cavity_loss, thermal_in, relaxation, decoherence\n",
    "from QDSim.physics import root_iSWAP\n",
    "from QDSim.solvers import do_qt_mesolve"
   ]
  },
  {
   "cell_type": "code",
   "execution_count": 2,
   "metadata": {
    "collapsed": true
   },
   "outputs": [],
   "source": [
    "def get_lind_list(w_C, Qfactor, T, gamma_1, gamma_2, dims):\n",
    "    cav_loss = cavity_loss(Qfactor, w_C, T, dims)\n",
    "    therm_in = thermal_in(Qfactor, w_C, T, dims)\n",
    "    d1 = decoherence(gamma_2, dims, 1)\n",
    "    d2 = decoherence(gamma_2, dims, 2)\n",
    "    r1 = decoherence(gamma_1, dims, 1)\n",
    "    r2 = decoherence(gamma_1, dims, 2)\n",
    "    return [cav_loss, therm_in, d1, d2, r1, r2]"
   ]
  },
  {
   "cell_type": "code",
   "execution_count": 3,
   "metadata": {
    "collapsed": false
   },
   "outputs": [],
   "source": [
    "sim = Simulation(do_qt_mesolve, fname='time_dependent.yaml')\n",
    "state = qt.tensor(thermal_state(sim.w_c, 20e-3, sim.cav_dim),\n",
    "                 qt.basis(2, 0), qt.basis(2, 1))\n",
    "sim.set_state(state)"
   ]
  },
  {
   "cell_type": "code",
   "execution_count": null,
   "metadata": {
    "collapsed": false
   },
   "outputs": [],
   "source": [
    "q_factors = [1e5, 1e4, 1e3, 1e2, 10]\n",
    "fids = []\n",
    "target = root_iSWAP * qt.tensor(qt.basis(2, 0), qt.basis(2, 1))\n",
    "for q in q_factors:\n",
    "    ls = get_lind_list(sim.w_c, q, 100e-3, 1, 1e2, sim.dims)\n",
    "    sim.lindblads = ls\n",
    "    states = sim.run_solver(nsteps=1000, steps=5000, tau=1e-9)\n",
    "    fids.append([qt.fidelity(target, s.ptrace([1,2])) for s in states])"
   ]
  },
  {
   "cell_type": "code",
   "execution_count": null,
   "metadata": {
    "collapsed": false
   },
   "outputs": [],
   "source": [
    "points = ['r-','g-','b-', 'y-', 'k-']\n",
    "labels = ['100000','10000','1000','100','10']\n",
    "times = 1e-9 * np.arange(5000)\n",
    "fig = plt.figure()\n",
    "ax = fig.add_subplot(111, title='Dispersive iSWAP Fidelity with changing Q Factor')\n",
    "for i, fid in enumerate(fids):\n",
    "    ax.plot(times, fid, points[i], label=labels[i])\n",
    "ax.legend(loc='upper right')\n",
    "ax.set_xlabel('Gate Time /s')\n",
    "ax.set_ylabel('Fidelity')\n",
    "plt.show()"
   ]
  },
  {
   "cell_type": "code",
   "execution_count": 5,
   "metadata": {
    "collapsed": false
   },
   "outputs": [
    {
     "name": "stdout",
     "output_type": "stream",
     "text": [
      "10.0%. Run time:   0.22s. Est. time left: 00:00:00:01\n",
      "20.0%. Run time:   0.53s. Est. time left: 00:00:00:02\n",
      "30.0%. Run time:   0.87s. Est. time left: 00:00:00:02\n",
      "40.0%. Run time:   1.11s. Est. time left: 00:00:00:01\n",
      "50.0%. Run time:   1.36s. Est. time left: 00:00:00:01\n",
      "60.0%. Run time:   1.62s. Est. time left: 00:00:00:01\n",
      "70.0%. Run time:   1.93s. Est. time left: 00:00:00:00\n",
      "80.0%. Run time:   2.37s. Est. time left: 00:00:00:00\n",
      "90.0%. Run time:   2.78s. Est. time left: 00:00:00:00\n",
      "Total run time:   3.08s\n",
      "10.0%. Run time:   0.27s. Est. time left: 00:00:00:02\n",
      "20.0%. Run time:   0.58s. Est. time left: 00:00:00:02\n",
      "30.0%. Run time:   0.87s. Est. time left: 00:00:00:02\n",
      "40.0%. Run time:   1.18s. Est. time left: 00:00:00:01\n",
      "50.0%. Run time:   1.48s. Est. time left: 00:00:00:01\n",
      "60.0%. Run time:   1.81s. Est. time left: 00:00:00:01\n",
      "70.0%. Run time:   2.30s. Est. time left: 00:00:00:00\n",
      "80.0%. Run time:   2.73s. Est. time left: 00:00:00:00\n",
      "90.0%. Run time:   3.04s. Est. time left: 00:00:00:00\n",
      "Total run time:   3.29s\n",
      "10.0%. Run time:   0.29s. Est. time left: 00:00:00:02\n",
      "20.0%. Run time:   0.57s. Est. time left: 00:00:00:02\n",
      "30.0%. Run time:   0.82s. Est. time left: 00:00:00:01\n",
      "40.0%. Run time:   1.08s. Est. time left: 00:00:00:01\n",
      "50.0%. Run time:   1.35s. Est. time left: 00:00:00:01\n",
      "60.0%. Run time:   1.60s. Est. time left: 00:00:00:01\n",
      "70.0%. Run time:   1.84s. Est. time left: 00:00:00:00\n",
      "80.0%. Run time:   2.14s. Est. time left: 00:00:00:00\n",
      "90.0%. Run time:   2.40s. Est. time left: 00:00:00:00\n",
      "Total run time:   2.65s\n",
      "10.0%. Run time:   0.37s. Est. time left: 00:00:00:03\n",
      "20.0%. Run time:   0.87s. Est. time left: 00:00:00:03\n",
      "30.0%. Run time:   1.21s. Est. time left: 00:00:00:02\n",
      "40.0%. Run time:   1.53s. Est. time left: 00:00:00:02\n",
      "50.0%. Run time:   1.94s. Est. time left: 00:00:00:01\n",
      "60.0%. Run time:   2.32s. Est. time left: 00:00:00:01\n",
      "70.0%. Run time:   2.59s. Est. time left: 00:00:00:01\n",
      "80.0%. Run time:   2.89s. Est. time left: 00:00:00:00\n",
      "90.0%. Run time:   3.19s. Est. time left: 00:00:00:00\n",
      "Total run time:   3.45s\n"
     ]
    }
   ],
   "source": [
    "points = ['r-','g-','b-', 'y-', 'k-']\n",
    "times = 1e-9 * np.arange(5000)\n",
    "labels = ['20mK', '50mK', '100mK', '250mK']\n",
    "Ts = [20e-3, 50e-3, 100e-3, 250e-3]\n",
    "q1 = qt.basis(2, 0)\n",
    "q2 = qt.basis(2, 1)\n",
    "fids = []\n",
    "target = root_iSWAP * qt.tensor(qt.basis(2, 0), qt.basis(2, 1))\n",
    "for T in Ts:\n",
    "    cav = thermal_state(sim.w_c, T, sim.cav_dim)\n",
    "    sim.set_state(qt.tensor(cav, q1, q2))\n",
    "    ls = get_lind_list(sim.w_c, 1e4, T, 1, 1e2, sim.dims)\n",
    "    sim.lindblads = ls\n",
    "    states = sim.run_solver(nsteps=1000, steps=5000, tau=1e-9, progress_bar=True)\n",
    "    fids.append([qt.fidelity(target, s.ptrace([1,2])) for s in states])\n",
    "fig = plt.figure()\n",
    "ax = fig.add_subplot(111, title='Dispersive iSWAP Fidelity with increasing T')\n",
    "for i, fid in enumerate(fids):\n",
    "    ax.plot(times, fid, points[i], label=labels[i])\n",
    "ax.legend(loc='upper right')\n",
    "ax.set_xlabel('Gate Time /s')\n",
    "ax.set_ylabel('Fidelity')\n",
    "plt.savefig('TSweep.pdf')"
   ]
  },
  {
   "cell_type": "code",
   "execution_count": null,
   "metadata": {
    "collapsed": true
   },
   "outputs": [],
   "source": []
  }
 ],
 "metadata": {
  "kernelspec": {
   "display_name": "Python 3",
   "language": "python",
   "name": "python3"
  },
  "language_info": {
   "codemirror_mode": {
    "name": "ipython",
    "version": 3
   },
   "file_extension": ".py",
   "mimetype": "text/x-python",
   "name": "python",
   "nbconvert_exporter": "python",
   "pygments_lexer": "ipython3",
   "version": "3.5.1"
  }
 },
 "nbformat": 4,
 "nbformat_minor": 0
}
