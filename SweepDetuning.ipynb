{
 "cells": [
  {
   "cell_type": "code",
   "execution_count": 1,
   "metadata": {
    "collapsed": true
   },
   "outputs": [],
   "source": [
    "from matplotlib import pyplot as plt\n",
    "from QDSim.sim import Simulation\n",
    "from QDSim.dispatcher import repeat_execution, star_execution\n",
    "from QDSim.noise import thermal_state\n",
    "from QDSim.physics import root_iSWAP\n",
    "from QDSim.plot import load_results\n",
    "from QDSim.solvers import do_qt_mesolve\n",
    "\n",
    "import qutip as qt\n",
    "import numpy as np\n",
    "\n",
    "# cav = thermal_state(5e9, 20e-3)\n",
    "cav = qt.basis(5,0)\n",
    "state = qt.tensor(cav, qt.basis(2, 0), qt.basis(2, 1))\n",
    "\n",
    "def solve_for_delta(delta):\n",
    "    target = root_iSWAP * qt.tensor(qt.basis(2,0), qt.basis(2,1))\n",
    "    sim = Simulation(do_qt_mesolve, state=state, fname='time_dependent.yaml')\n",
    "    sim.w_1 = sim.w_c - delta\n",
    "    sim.w_2 = sim.w_c - delta\n",
    "    sim._load_H()\n",
    "    print('start solver for delta ' + str(delta))\n",
    "    states = sim.run_solver(nsteps=1000, steps=5000, tau=1e-9)\n",
    "    print('done solver')\n",
    "    print('do fids ' + str(delta))\n",
    "    fids = [qt.fidelity(target, s.ptrace([1, 2])) for s in states]\n",
    "    print('return')\n",
    "    return fids\n"
   ]
  },
  {
   "cell_type": "code",
   "execution_count": 2,
   "metadata": {
    "collapsed": false
   },
   "outputs": [
    {
     "name": "stdout",
     "output_type": "stream",
     "text": [
      "start solver for delta 10000000.0\n",
      "done solver\n",
      "do fids 10000000.0\n",
      "return\n",
      "start solver for delta 50000000.0\n",
      "done solver\n",
      "do fids 50000000.0\n",
      "return\n",
      "start solver for delta 100000000.0\n",
      "done solver\n",
      "do fids 100000000.0\n",
      "return\n"
     ]
    }
   ],
   "source": [
    "detunings = [1e7,5e7,1e8]\n",
    "kwarg_list = [{}]*len(detunings)\n",
    "results = [solve_for_delta(d) for d in detunings]\n"
   ]
  },
  {
   "cell_type": "code",
   "execution_count": null,
   "metadata": {
    "collapsed": true
   },
   "outputs": [],
   "source": [
    "times = 1e-9*np.arange(5000)\n",
    "labels = ['10MHz','50MHz','100MHz']\n",
    "markers = ['r-','g-','b-']#'r--','g--']#,'b--','r:']\n",
    "fig = plt.figure()\n",
    "ax = fig.add_subplot(111,title='iSWAP Fidelity with increasing Detuning')\n",
    "for i, res in enumerate(results):\n",
    "    plt.plot(times, res, markers[i], label=labels[i])\n",
    "ax.legend(loc='upper right')\n",
    "ax.set_xlabel('Time /s')\n",
    "ax.set_ylabel('Fidelity')\n",
    "plt.show()"
   ]
  },
  {
   "cell_type": "code",
   "execution_count": null,
   "metadata": {
    "collapsed": true
   },
   "outputs": [],
   "source": []
  }
 ],
 "metadata": {
  "kernelspec": {
   "display_name": "Python 3",
   "language": "python",
   "name": "python3"
  },
  "language_info": {
   "codemirror_mode": {
    "name": "ipython",
    "version": 3
   },
   "file_extension": ".py",
   "mimetype": "text/x-python",
   "name": "python",
   "nbconvert_exporter": "python",
   "pygments_lexer": "ipython3",
   "version": "3.5.1"
  }
 },
 "nbformat": 4,
 "nbformat_minor": 0
}
